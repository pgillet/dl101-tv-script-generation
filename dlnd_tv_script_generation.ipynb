{
 "cells": [
  {
   "cell_type": "markdown",
   "metadata": {},
   "source": [
    "# TV Script Generation\n",
    "In this project, you'll generate your own [Simpsons](https://en.wikipedia.org/wiki/The_Simpsons) TV scripts using RNNs.  You'll be using part of the [Simpsons dataset](https://www.kaggle.com/wcukierski/the-simpsons-by-the-data) of scripts from 27 seasons.  The Neural Network you'll build will generate a new TV script for a scene at [Moe's Tavern](https://simpsonswiki.com/wiki/Moe's_Tavern).\n",
    "## Get the Data\n",
    "The data is already provided for you.  You'll be using a subset of the original dataset.  It consists of only the scenes in Moe's Tavern.  This doesn't include other versions of the tavern, like \"Moe's Cavern\", \"Flaming Moe's\", \"Uncle Moe's Family Feed-Bag\", etc.."
   ]
  },
  {
   "cell_type": "code",
   "execution_count": 33,
   "metadata": {},
   "outputs": [],
   "source": [
    "\"\"\"\n",
    "DON'T MODIFY ANYTHING IN THIS CELL\n",
    "\"\"\"\n",
    "import helper\n",
    "\n",
    "data_dir = './data/simpsons/moes_tavern_lines.txt'\n",
    "text = helper.load_data(data_dir)\n",
    "# Ignore notice, since we don't use it for analysing the data\n",
    "text = text[81:]"
   ]
  },
  {
   "cell_type": "markdown",
   "metadata": {},
   "source": [
    "## Explore the Data\n",
    "Play around with `view_sentence_range` to view different parts of the data."
   ]
  },
  {
   "cell_type": "code",
   "execution_count": 34,
   "metadata": {},
   "outputs": [
    {
     "name": "stdout",
     "output_type": "stream",
     "text": [
      "Dataset Stats\n",
      "Roughly the number of unique words: 11492\n",
      "Number of scenes: 262\n",
      "Average number of sentences in each scene: 15.248091603053435\n",
      "Number of lines: 4257\n",
      "Average number of words in each line: 11.50434578341555\n",
      "\n",
      "The sentences 0 to 10:\n",
      "Moe_Szyslak: (INTO PHONE) Moe's Tavern. Where the elite meet to drink.\n",
      "Bart_Simpson: Eh, yeah, hello, is Mike there? Last name, Rotch.\n",
      "Moe_Szyslak: (INTO PHONE) Hold on, I'll check. (TO BARFLIES) Mike Rotch. Mike Rotch. Hey, has anybody seen Mike Rotch, lately?\n",
      "Moe_Szyslak: (INTO PHONE) Listen you little puke. One of these days I'm gonna catch you, and I'm gonna carve my name on your back with an ice pick.\n",
      "Moe_Szyslak: What's the matter Homer? You're not your normal effervescent self.\n",
      "Homer_Simpson: I got my problems, Moe. Give me another one.\n",
      "Moe_Szyslak: Homer, hey, you should not drink to forget your problems.\n",
      "Barney_Gumble: Yeah, you should only drink to enhance your social skills.\n",
      "\n",
      "\n"
     ]
    }
   ],
   "source": [
    "view_sentence_range = (0, 10)\n",
    "\n",
    "\"\"\"\n",
    "DON'T MODIFY ANYTHING IN THIS CELL\n",
    "\"\"\"\n",
    "import numpy as np\n",
    "\n",
    "print('Dataset Stats')\n",
    "print('Roughly the number of unique words: {}'.format(len({word: None for word in text.split()})))\n",
    "scenes = text.split('\\n\\n')\n",
    "print('Number of scenes: {}'.format(len(scenes)))\n",
    "sentence_count_scene = [scene.count('\\n') for scene in scenes]\n",
    "print('Average number of sentences in each scene: {}'.format(np.average(sentence_count_scene)))\n",
    "\n",
    "sentences = [sentence for scene in scenes for sentence in scene.split('\\n')]\n",
    "print('Number of lines: {}'.format(len(sentences)))\n",
    "word_count_sentence = [len(sentence.split()) for sentence in sentences]\n",
    "print('Average number of words in each line: {}'.format(np.average(word_count_sentence)))\n",
    "\n",
    "print()\n",
    "print('The sentences {} to {}:'.format(*view_sentence_range))\n",
    "print('\\n'.join(text.split('\\n')[view_sentence_range[0]:view_sentence_range[1]]))"
   ]
  },
  {
   "cell_type": "markdown",
   "metadata": {},
   "source": [
    "## Implement Preprocessing Functions\n",
    "The first thing to do to any dataset is preprocessing.  Implement the following preprocessing functions below:\n",
    "- Lookup Table\n",
    "- Tokenize Punctuation\n",
    "\n",
    "### Lookup Table\n",
    "To create a word embedding, you first need to transform the words to ids.  In this function, create two dictionaries:\n",
    "- Dictionary to go from the words to an id, we'll call `vocab_to_int`\n",
    "- Dictionary to go from the id to word, we'll call `int_to_vocab`\n",
    "\n",
    "Return these dictionaries in the following tuple `(vocab_to_int, int_to_vocab)`"
   ]
  },
  {
   "cell_type": "code",
   "execution_count": 35,
   "metadata": {},
   "outputs": [
    {
     "name": "stdout",
     "output_type": "stream",
     "text": [
      "Tests Passed\n"
     ]
    }
   ],
   "source": [
    "from collections import Counter\n",
    "import numpy as np\n",
    "import problem_unittests as tests\n",
    "\n",
    "def create_lookup_tables(text):\n",
    "    \"\"\"\n",
    "    Create lookup tables for vocabulary\n",
    "    :param text: The text of tv scripts split into words\n",
    "    :return: A tuple of dicts (vocab_to_int, int_to_vocab)\n",
    "    \"\"\"\n",
    "    # TODO: Implement Function\n",
    "    counts = Counter(text)\n",
    "    vocab = sorted(counts, key=counts.get, reverse=True)\n",
    "    vocab_to_int = {word: ii for ii, word in enumerate(vocab, 0)} # Error later if dict starts at 1\n",
    "    int_to_vocab = {ii: word for word, ii in vocab_to_int.items()}\n",
    "    return vocab_to_int, int_to_vocab\n",
    "\n",
    "\n",
    "\"\"\"\n",
    "DON'T MODIFY ANYTHING IN THIS CELL THAT IS BELOW THIS LINE\n",
    "\"\"\"\n",
    "tests.test_create_lookup_tables(create_lookup_tables)"
   ]
  },
  {
   "cell_type": "markdown",
   "metadata": {},
   "source": [
    "### Tokenize Punctuation\n",
    "We'll be splitting the script into a word array using spaces as delimiters.  However, punctuations like periods and exclamation marks make it hard for the neural network to distinguish between the word \"bye\" and \"bye!\".\n",
    "\n",
    "Implement the function `token_lookup` to return a dict that will be used to tokenize symbols like \"!\" into \"||Exclamation_Mark||\".  Create a dictionary for the following symbols where the symbol is the key and value is the token:\n",
    "- Period ( . )\n",
    "- Comma ( , )\n",
    "- Quotation Mark ( \" )\n",
    "- Semicolon ( ; )\n",
    "- Exclamation mark ( ! )\n",
    "- Question mark ( ? )\n",
    "- Left Parentheses ( ( )\n",
    "- Right Parentheses ( ) )\n",
    "- Dash ( -- )\n",
    "- Return ( \\n )\n",
    "\n",
    "This dictionary will be used to token the symbols and add the delimiter (space) around it.  This separates the symbols as it's own word, making it easier for the neural network to predict on the next word. Make sure you don't use a token that could be confused as a word. Instead of using the token \"dash\", try using something like \"||dash||\"."
   ]
  },
  {
   "cell_type": "code",
   "execution_count": 36,
   "metadata": {},
   "outputs": [
    {
     "name": "stdout",
     "output_type": "stream",
     "text": [
      "Tests Passed\n"
     ]
    }
   ],
   "source": [
    "def token_lookup():\n",
    "    \"\"\"\n",
    "    Generate a dict to turn punctuation into a token.\n",
    "    :return: Tokenize dictionary where the key is the punctuation and the value is the token\n",
    "    \"\"\"\n",
    "    # TODO: Implement Function\n",
    "    punct_to_token = {'.':'||Period||',\n",
    "                      ',':'||Comma||', \n",
    "                      '\"':'||Quotation_Mark||', \n",
    "                      ';':'||Semicolon||',\n",
    "                      '!':'||Exclamation_mark||',\n",
    "                      '?':'||Question_mark||',\n",
    "                      '(':'||Left_Parentheses||',\n",
    "                      ')':'||Right_Parentheses||',\n",
    "                      '--':'||Dash||',\n",
    "                      '\\n':'||Return||',}\n",
    "    return punct_to_token\n",
    "\n",
    "\"\"\"\n",
    "DON'T MODIFY ANYTHING IN THIS CELL THAT IS BELOW THIS LINE\n",
    "\"\"\"\n",
    "tests.test_tokenize(token_lookup)"
   ]
  },
  {
   "cell_type": "markdown",
   "metadata": {},
   "source": [
    "## Preprocess all the data and save it\n",
    "Running the code cell below will preprocess all the data and save it to file."
   ]
  },
  {
   "cell_type": "code",
   "execution_count": 37,
   "metadata": {},
   "outputs": [],
   "source": [
    "\"\"\"\n",
    "DON'T MODIFY ANYTHING IN THIS CELL\n",
    "\"\"\"\n",
    "# Preprocess Training, Validation, and Testing Data\n",
    "helper.preprocess_and_save_data(data_dir, token_lookup, create_lookup_tables)"
   ]
  },
  {
   "cell_type": "markdown",
   "metadata": {},
   "source": [
    "# Check Point\n",
    "This is your first checkpoint. If you ever decide to come back to this notebook or have to restart the notebook, you can start from here. The preprocessed data has been saved to disk."
   ]
  },
  {
   "cell_type": "code",
   "execution_count": 38,
   "metadata": {},
   "outputs": [],
   "source": [
    "\"\"\"\n",
    "DON'T MODIFY ANYTHING IN THIS CELL\n",
    "\"\"\"\n",
    "import helper\n",
    "import numpy as np\n",
    "import problem_unittests as tests\n",
    "\n",
    "int_text, vocab_to_int, int_to_vocab, token_dict = helper.load_preprocess()"
   ]
  },
  {
   "cell_type": "markdown",
   "metadata": {},
   "source": [
    "## Build the Neural Network\n",
    "You'll build the components necessary to build a RNN by implementing the following functions below:\n",
    "- get_inputs\n",
    "- get_init_cell\n",
    "- get_embed\n",
    "- build_rnn\n",
    "- build_nn\n",
    "- get_batches\n",
    "\n",
    "### Check the Version of TensorFlow and Access to GPU"
   ]
  },
  {
   "cell_type": "code",
   "execution_count": 39,
   "metadata": {},
   "outputs": [
    {
     "name": "stdout",
     "output_type": "stream",
     "text": [
      "TensorFlow Version: 1.0.0\n"
     ]
    },
    {
     "name": "stderr",
     "output_type": "stream",
     "text": [
      "/home/pasgille/Workbench/anaconda3/envs/tensorflow/lib/python3.5/site-packages/ipykernel_launcher.py:14: UserWarning: No GPU found. Please use a GPU to train your neural network.\n",
      "  \n"
     ]
    }
   ],
   "source": [
    "\"\"\"\n",
    "DON'T MODIFY ANYTHING IN THIS CELL\n",
    "\"\"\"\n",
    "from distutils.version import LooseVersion\n",
    "import warnings\n",
    "import tensorflow as tf\n",
    "\n",
    "# Check TensorFlow Version\n",
    "assert LooseVersion(tf.__version__) >= LooseVersion('1.0'), 'Please use TensorFlow version 1.0 or newer'\n",
    "print('TensorFlow Version: {}'.format(tf.__version__))\n",
    "\n",
    "# Check for a GPU\n",
    "if not tf.test.gpu_device_name():\n",
    "    warnings.warn('No GPU found. Please use a GPU to train your neural network.')\n",
    "else:\n",
    "    print('Default GPU Device: {}'.format(tf.test.gpu_device_name()))"
   ]
  },
  {
   "cell_type": "markdown",
   "metadata": {},
   "source": [
    "### Input\n",
    "Implement the `get_inputs()` function to create TF Placeholders for the Neural Network.  It should create the following placeholders:\n",
    "- Input text placeholder named \"input\" using the [TF Placeholder](https://www.tensorflow.org/api_docs/python/tf/placeholder) `name` parameter.\n",
    "- Targets placeholder\n",
    "- Learning Rate placeholder\n",
    "\n",
    "Return the placeholders in the following tuple `(Input, Targets, LearningRate)`"
   ]
  },
  {
   "cell_type": "code",
   "execution_count": 40,
   "metadata": {},
   "outputs": [
    {
     "name": "stdout",
     "output_type": "stream",
     "text": [
      "Tests Passed\n"
     ]
    }
   ],
   "source": [
    "def get_inputs():\n",
    "    \"\"\"\n",
    "    Create TF Placeholders for input, targets, and learning rate.\n",
    "    :return: Tuple (input, targets, learning rate)\n",
    "    \"\"\"\n",
    "    # TODO: Implement Function\n",
    "    input = tf.placeholder(tf.int32, [None, None], name='input')\n",
    "    targets = tf.placeholder(tf.int32, [None, None], name='targets')\n",
    "    learning_rate = tf.placeholder(tf.float32, name='learning_rate')\n",
    "    return input, targets, learning_rate\n",
    "\n",
    "\n",
    "\"\"\"\n",
    "DON'T MODIFY ANYTHING IN THIS CELL THAT IS BELOW THIS LINE\n",
    "\"\"\"\n",
    "tests.test_get_inputs(get_inputs)"
   ]
  },
  {
   "cell_type": "markdown",
   "metadata": {},
   "source": [
    "### Build RNN Cell and Initialize\n",
    "Stack one or more [`BasicLSTMCells`](https://www.tensorflow.org/api_docs/python/tf/contrib/rnn/BasicLSTMCell) in a [`MultiRNNCell`](https://www.tensorflow.org/api_docs/python/tf/contrib/rnn/MultiRNNCell).\n",
    "- The Rnn size should be set using `rnn_size`\n",
    "- Initalize Cell State using the MultiRNNCell's [`zero_state()`](https://www.tensorflow.org/api_docs/python/tf/contrib/rnn/MultiRNNCell#zero_state) function\n",
    "    - Apply the name \"initial_state\" to the initial state using [`tf.identity()`](https://www.tensorflow.org/api_docs/python/tf/identity)\n",
    "\n",
    "Return the cell and initial state in the following tuple `(Cell, InitialState)`"
   ]
  },
  {
   "cell_type": "code",
   "execution_count": 41,
   "metadata": {},
   "outputs": [
    {
     "name": "stdout",
     "output_type": "stream",
     "text": [
      "Tests Passed\n"
     ]
    }
   ],
   "source": [
    "def get_init_cell(batch_size, rnn_size):\n",
    "    \"\"\"\n",
    "    Create an RNN Cell and initialize it.\n",
    "    :param batch_size: Size of batches\n",
    "    :param rnn_size: Size of RNNs\n",
    "    :return: Tuple (cell, initialize state)\n",
    "    \"\"\"\n",
    "    # TODO: Implement Function\n",
    "    # Basic LSTM cell\n",
    "    lstm = tf.contrib.rnn.BasicLSTMCell(rnn_size)\n",
    "    \n",
    "    # Add dropout to the cell ?\n",
    "    # drop = tf.contrib.rnn.DropoutWrapper(lstm, output_keep_prob=keep_prob)\n",
    "    \n",
    "    # Stack up multiple LSTM layers, for deep learning\n",
    "    lstm_layers = 2\n",
    "    cell = tf.contrib.rnn.MultiRNNCell([lstm] * lstm_layers)\n",
    "    \n",
    "    # Getting an initial state of all zeros\n",
    "    zero_state = cell.zero_state(batch_size, tf.float32)\n",
    "    initial_state = tf.identity(zero_state, name='initial_state')\n",
    "    \n",
    "    return cell, initial_state\n",
    "\n",
    "\n",
    "\"\"\"\n",
    "DON'T MODIFY ANYTHING IN THIS CELL THAT IS BELOW THIS LINE\n",
    "\"\"\"\n",
    "tests.test_get_init_cell(get_init_cell)"
   ]
  },
  {
   "cell_type": "markdown",
   "metadata": {},
   "source": [
    "### Word Embedding\n",
    "Apply embedding to `input_data` using TensorFlow.  Return the embedded sequence."
   ]
  },
  {
   "cell_type": "code",
   "execution_count": 42,
   "metadata": {},
   "outputs": [
    {
     "name": "stdout",
     "output_type": "stream",
     "text": [
      "Tests Passed\n"
     ]
    }
   ],
   "source": [
    "def get_embed(input_data, vocab_size, embed_dim):\n",
    "    \"\"\"\n",
    "    Create embedding for <input_data>.\n",
    "    :param input_data: TF placeholder for text input.\n",
    "    :param vocab_size: Number of words in vocabulary.\n",
    "    :param embed_dim: Number of embedding dimensions\n",
    "    :return: Embedded input.\n",
    "    \"\"\"\n",
    "    # TODO: Implement Function\n",
    "    embedding = tf.Variable(tf.random_uniform((vocab_size, embed_dim), -1, 1))\n",
    "    embed = tf.nn.embedding_lookup(embedding, input_data)\n",
    "    return embed\n",
    "\n",
    "\n",
    "\"\"\"\n",
    "DON'T MODIFY ANYTHING IN THIS CELL THAT IS BELOW THIS LINE\n",
    "\"\"\"\n",
    "tests.test_get_embed(get_embed)"
   ]
  },
  {
   "cell_type": "markdown",
   "metadata": {},
   "source": [
    "### Build RNN\n",
    "You created a RNN Cell in the `get_init_cell()` function.  Time to use the cell to create a RNN.\n",
    "- Build the RNN using the [`tf.nn.dynamic_rnn()`](https://www.tensorflow.org/api_docs/python/tf/nn/dynamic_rnn)\n",
    " - Apply the name \"final_state\" to the final state using [`tf.identity()`](https://www.tensorflow.org/api_docs/python/tf/identity)\n",
    "\n",
    "Return the outputs and final_state state in the following tuple `(Outputs, FinalState)` "
   ]
  },
  {
   "cell_type": "code",
   "execution_count": 43,
   "metadata": {},
   "outputs": [
    {
     "name": "stdout",
     "output_type": "stream",
     "text": [
      "Tests Passed\n"
     ]
    }
   ],
   "source": [
    "def build_rnn(cell, inputs):\n",
    "    \"\"\"\n",
    "    Create a RNN using a RNN Cell\n",
    "    :param cell: RNN Cell\n",
    "    :param inputs: Input text data\n",
    "    :return: Tuple (Outputs, Final State)\n",
    "    \"\"\"\n",
    "    # TODO: Implement Function\n",
    "    # No initial state from get_init_cell?\n",
    "    outputs, state = tf.nn.dynamic_rnn(cell, inputs, dtype=tf.float32)\n",
    "    final_state = tf.identity(state, name='final_state')\n",
    "    return outputs, final_state\n",
    "\n",
    "\n",
    "\"\"\"\n",
    "DON'T MODIFY ANYTHING IN THIS CELL THAT IS BELOW THIS LINE\n",
    "\"\"\"\n",
    "tests.test_build_rnn(build_rnn)"
   ]
  },
  {
   "cell_type": "markdown",
   "metadata": {},
   "source": [
    "### Build the Neural Network\n",
    "Apply the functions you implemented above to:\n",
    "- Apply embedding to `input_data` using your `get_embed(input_data, vocab_size, embed_dim)` function.\n",
    "- Build RNN using `cell` and your `build_rnn(cell, inputs)` function.\n",
    "- Apply a fully connected layer with a linear activation and `vocab_size` as the number of outputs.\n",
    "\n",
    "Return the logits and final state in the following tuple (Logits, FinalState) "
   ]
  },
  {
   "cell_type": "code",
   "execution_count": 57,
   "metadata": {},
   "outputs": [
    {
     "name": "stdout",
     "output_type": "stream",
     "text": [
      "Tests Passed\n"
     ]
    }
   ],
   "source": [
    "def build_nn(cell, rnn_size, input_data, vocab_size, embed_dim):\n",
    "    \"\"\"\n",
    "    Build part of the neural network\n",
    "    :param cell: RNN cell\n",
    "    :param rnn_size: Size of rnns\n",
    "    :param input_data: Input data\n",
    "    :param vocab_size: Vocabulary size\n",
    "    :param embed_dim: Number of embedding dimensions\n",
    "    :return: Tuple (Logits, FinalState)\n",
    "    \"\"\"\n",
    "    # TODO: Implement Function\n",
    "    embed = get_embed(input_data, vocab_size, embed_dim)\n",
    "    outputs, final_state = build_rnn(cell, embed)\n",
    "    \n",
    "    # No ReLU ?\n",
    "    predictions = tf.contrib.layers.fully_connected(outputs, vocab_size, activation_fn=None)\n",
    "    \n",
    "    # Final state wrong shape error: Had to downgrade tensorflow to 1.2.1\n",
    "    \n",
    "    return predictions, final_state\n",
    "\n",
    "\n",
    "\"\"\"\n",
    "DON'T MODIFY ANYTHING IN THIS CELL THAT IS BELOW THIS LINE\n",
    "\"\"\"\n",
    "tests.test_build_nn(build_nn)"
   ]
  },
  {
   "cell_type": "markdown",
   "metadata": {},
   "source": [
    "### Batches\n",
    "Implement `get_batches` to create batches of input and targets using `int_text`.  The batches should be a Numpy array with the shape `(number of batches, 2, batch size, sequence length)`. Each batch contains two elements:\n",
    "- The first element is a single batch of **input** with the shape `[batch size, sequence length]`\n",
    "- The second element is a single batch of **targets** with the shape `[batch size, sequence length]`\n",
    "\n",
    "If you can't fill the last batch with enough data, drop the last batch.\n",
    "\n",
    "For exmple, `get_batches([1, 2, 3, 4, 5, 6, 7, 8, 9, 10, 11, 12, 13, 14, 15, 16, 17, 18, 19, 20], 3, 2)` would return a Numpy array of the following:\n",
    "```\n",
    "[\n",
    "  # First Batch\n",
    "  [\n",
    "    # Batch of Input\n",
    "    [[ 1  2], [ 7  8], [13 14]]\n",
    "    # Batch of targets\n",
    "    [[ 2  3], [ 8  9], [14 15]]\n",
    "  ]\n",
    "\n",
    "  # Second Batch\n",
    "  [\n",
    "    # Batch of Input\n",
    "    [[ 3  4], [ 9 10], [15 16]]\n",
    "    # Batch of targets\n",
    "    [[ 4  5], [10 11], [16 17]]\n",
    "  ]\n",
    "\n",
    "  # Third Batch\n",
    "  [\n",
    "    # Batch of Input\n",
    "    [[ 5  6], [11 12], [17 18]]\n",
    "    # Batch of targets\n",
    "    [[ 6  7], [12 13], [18  1]]\n",
    "  ]\n",
    "]\n",
    "```\n",
    "\n",
    "Notice that the last target value in the last batch is the first input value of the first batch. In this case, `1`. This is a common technique used when creating sequence batches, although it is rather unintuitive."
   ]
  },
  {
   "cell_type": "code",
   "execution_count": 58,
   "metadata": {},
   "outputs": [
    {
     "name": "stdout",
     "output_type": "stream",
     "text": [
      "Tests Passed\n"
     ]
    }
   ],
   "source": [
    "def get_batches(int_text, batch_size, seq_length):\n",
    "    \"\"\"\n",
    "    Return batches of input and target\n",
    "    :param int_text: Text with the words replaced by their ids\n",
    "    :param batch_size: The size of batch\n",
    "    :param seq_length: The length of sequence\n",
    "    :return: Batches as a Numpy array\n",
    "    \"\"\"\n",
    "    # TODO: Implement Function\n",
    "    n_batches = len(int_text)//(batch_size * seq_length)\n",
    "    # print('n_batches={}'.format(n_batches))\n",
    "    batches = np.empty((n_batches, 2, batch_size, seq_length), dtype=int)\n",
    "    \n",
    "    num_batch = num_seq = 0\n",
    "    for ii in range(0, len(int_text), seq_length):\n",
    "        for jj in range(0, 2):\n",
    "            # print('batches[{}][{}][{}] = {}'.format(num_batch, jj, num_seq, int_text[ii + jj: ii + jj + seq_length]))\n",
    "            batches[num_batch][jj][num_seq] = int_text[ii + jj: ii + jj + seq_length]\n",
    "        num_batch += 1\n",
    "        # Reset\n",
    "        if num_batch == n_batches:\n",
    "            num_batch = 0\n",
    "            num_seq += 1\n",
    "        if num_seq == batch_size:\n",
    "            break\n",
    "            \n",
    "    # last value\n",
    "    batches[-1][-1][-1][-1]=batches[0][0][0][0]\n",
    "    \n",
    "    return batches\n",
    "\n",
    "# Test\n",
    "# get_batches([1, 2, 3, 4, 5, 6, 7, 8, 9, 10, 11, 12, 13, 14, 15, 16, 17, 18, 19, 20], 3, 2)\n",
    "\n",
    "# \"\"\"\n",
    "# DON'T MODIFY ANYTHING IN THIS CELL THAT IS BELOW THIS LINE\n",
    "# \"\"\"\n",
    "tests.test_get_batches(get_batches)"
   ]
  },
  {
   "cell_type": "markdown",
   "metadata": {},
   "source": [
    "## Neural Network Training\n",
    "### Hyperparameters\n",
    "Tune the following parameters:\n",
    "\n",
    "- Set `num_epochs` to the number of epochs.\n",
    "- Set `batch_size` to the batch size.\n",
    "- Set `rnn_size` to the size of the RNNs.\n",
    "- Set `embed_dim` to the size of the embedding.\n",
    "- Set `seq_length` to the length of sequence.\n",
    "- Set `learning_rate` to the learning rate.\n",
    "- Set `show_every_n_batches` to the number of batches the neural network should print progress."
   ]
  },
  {
   "cell_type": "code",
   "execution_count": 59,
   "metadata": {
    "collapsed": true
   },
   "outputs": [],
   "source": [
    "# Number of Epochs\n",
    "num_epochs = 100\n",
    "# Batch Size\n",
    "batch_size = 100\n",
    "# RNN Size\n",
    "rnn_size = 256\n",
    "# Embedding Dimension Size\n",
    "embed_dim = 300\n",
    "# Sequence Length\n",
    "seq_length = 20\n",
    "# Learning Rate\n",
    "learning_rate = 0.01\n",
    "# Show stats for every n number of batches\n",
    "show_every_n_batches = 10\n",
    "\n",
    "\"\"\"\n",
    "DON'T MODIFY ANYTHING IN THIS CELL THAT IS BELOW THIS LINE\n",
    "\"\"\"\n",
    "save_dir = './save'"
   ]
  },
  {
   "cell_type": "markdown",
   "metadata": {},
   "source": [
    "### Build the Graph\n",
    "Build the graph using the neural network you implemented."
   ]
  },
  {
   "cell_type": "code",
   "execution_count": 60,
   "metadata": {},
   "outputs": [],
   "source": [
    "\"\"\"\n",
    "DON'T MODIFY ANYTHING IN THIS CELL\n",
    "\"\"\"\n",
    "from tensorflow.contrib import seq2seq\n",
    "\n",
    "train_graph = tf.Graph()\n",
    "with train_graph.as_default():\n",
    "    vocab_size = len(int_to_vocab)\n",
    "    input_text, targets, lr = get_inputs()\n",
    "    input_data_shape = tf.shape(input_text)\n",
    "    cell, initial_state = get_init_cell(input_data_shape[0], rnn_size)\n",
    "    logits, final_state = build_nn(cell, rnn_size, input_text, vocab_size, embed_dim)\n",
    "\n",
    "    # Probabilities for generating words\n",
    "    probs = tf.nn.softmax(logits, name='probs')\n",
    "\n",
    "    # Loss function\n",
    "    cost = seq2seq.sequence_loss(\n",
    "        logits,\n",
    "        targets,\n",
    "        tf.ones([input_data_shape[0], input_data_shape[1]]))\n",
    "\n",
    "    # Optimizer\n",
    "    optimizer = tf.train.AdamOptimizer(lr)\n",
    "\n",
    "    # Gradient Clipping\n",
    "    gradients = optimizer.compute_gradients(cost)\n",
    "    capped_gradients = [(tf.clip_by_value(grad, -1., 1.), var) for grad, var in gradients if grad is not None]\n",
    "    train_op = optimizer.apply_gradients(capped_gradients)"
   ]
  },
  {
   "cell_type": "markdown",
   "metadata": {},
   "source": [
    "## Train\n",
    "Train the neural network on the preprocessed data.  If you have a hard time getting a good loss, check the [forums](https://discussions.udacity.com/) to see if anyone is having the same problem."
   ]
  },
  {
   "cell_type": "code",
   "execution_count": 61,
   "metadata": {},
   "outputs": [
    {
     "name": "stdout",
     "output_type": "stream",
     "text": [
      "Epoch   0 Batch    0/34   train_loss = 8.822\n",
      "Epoch   0 Batch   10/34   train_loss = 6.787\n",
      "Epoch   0 Batch   20/34   train_loss = 6.856\n",
      "Epoch   0 Batch   30/34   train_loss = 6.712\n",
      "Epoch   1 Batch    6/34   train_loss = 6.194\n",
      "Epoch   1 Batch   16/34   train_loss = 6.325\n",
      "Epoch   1 Batch   26/34   train_loss = 6.129\n",
      "Epoch   2 Batch    2/34   train_loss = 6.080\n",
      "Epoch   2 Batch   12/34   train_loss = 5.849\n",
      "Epoch   2 Batch   22/34   train_loss = 5.826\n",
      "Epoch   2 Batch   32/34   train_loss = 5.539\n",
      "Epoch   3 Batch    8/34   train_loss = 5.148\n",
      "Epoch   3 Batch   18/34   train_loss = 5.192\n",
      "Epoch   3 Batch   28/34   train_loss = 5.032\n",
      "Epoch   4 Batch    4/34   train_loss = 4.830\n",
      "Epoch   4 Batch   14/34   train_loss = 4.917\n",
      "Epoch   4 Batch   24/34   train_loss = 4.687\n",
      "Epoch   5 Batch    0/34   train_loss = 4.608\n",
      "Epoch   5 Batch   10/34   train_loss = 4.622\n",
      "Epoch   5 Batch   20/34   train_loss = 4.563\n",
      "Epoch   5 Batch   30/34   train_loss = 4.467\n",
      "Epoch   6 Batch    6/34   train_loss = 4.355\n",
      "Epoch   6 Batch   16/34   train_loss = 4.616\n",
      "Epoch   6 Batch   26/34   train_loss = 4.400\n",
      "Epoch   7 Batch    2/34   train_loss = 4.350\n",
      "Epoch   7 Batch   12/34   train_loss = 4.219\n",
      "Epoch   7 Batch   22/34   train_loss = 4.270\n",
      "Epoch   7 Batch   32/34   train_loss = 4.189\n",
      "Epoch   8 Batch    8/34   train_loss = 4.042\n",
      "Epoch   8 Batch   18/34   train_loss = 4.025\n",
      "Epoch   8 Batch   28/34   train_loss = 4.042\n",
      "Epoch   9 Batch    4/34   train_loss = 3.925\n",
      "Epoch   9 Batch   14/34   train_loss = 3.973\n",
      "Epoch   9 Batch   24/34   train_loss = 3.816\n",
      "Epoch  10 Batch    0/34   train_loss = 3.783\n",
      "Epoch  10 Batch   10/34   train_loss = 3.803\n",
      "Epoch  10 Batch   20/34   train_loss = 3.642\n",
      "Epoch  10 Batch   30/34   train_loss = 3.643\n",
      "Epoch  11 Batch    6/34   train_loss = 3.482\n",
      "Epoch  11 Batch   16/34   train_loss = 3.659\n",
      "Epoch  11 Batch   26/34   train_loss = 3.509\n",
      "Epoch  12 Batch    2/34   train_loss = 3.521\n",
      "Epoch  12 Batch   12/34   train_loss = 3.376\n",
      "Epoch  12 Batch   22/34   train_loss = 3.393\n",
      "Epoch  12 Batch   32/34   train_loss = 3.351\n",
      "Epoch  13 Batch    8/34   train_loss = 3.340\n",
      "Epoch  13 Batch   18/34   train_loss = 3.185\n",
      "Epoch  13 Batch   28/34   train_loss = 3.154\n",
      "Epoch  14 Batch    4/34   train_loss = 3.228\n",
      "Epoch  14 Batch   14/34   train_loss = 3.111\n",
      "Epoch  14 Batch   24/34   train_loss = 3.015\n",
      "Epoch  15 Batch    0/34   train_loss = 2.994\n",
      "Epoch  15 Batch   10/34   train_loss = 3.095\n",
      "Epoch  15 Batch   20/34   train_loss = 2.905\n",
      "Epoch  15 Batch   30/34   train_loss = 2.878\n",
      "Epoch  16 Batch    6/34   train_loss = 2.716\n",
      "Epoch  16 Batch   16/34   train_loss = 2.845\n",
      "Epoch  16 Batch   26/34   train_loss = 2.803\n",
      "Epoch  17 Batch    2/34   train_loss = 2.768\n",
      "Epoch  17 Batch   12/34   train_loss = 2.651\n",
      "Epoch  17 Batch   22/34   train_loss = 2.659\n",
      "Epoch  17 Batch   32/34   train_loss = 2.648\n",
      "Epoch  18 Batch    8/34   train_loss = 2.725\n",
      "Epoch  18 Batch   18/34   train_loss = 2.523\n",
      "Epoch  18 Batch   28/34   train_loss = 2.446\n",
      "Epoch  19 Batch    4/34   train_loss = 2.556\n",
      "Epoch  19 Batch   14/34   train_loss = 2.392\n",
      "Epoch  19 Batch   24/34   train_loss = 2.441\n",
      "Epoch  20 Batch    0/34   train_loss = 2.300\n",
      "Epoch  20 Batch   10/34   train_loss = 2.458\n",
      "Epoch  20 Batch   20/34   train_loss = 2.301\n",
      "Epoch  20 Batch   30/34   train_loss = 2.285\n",
      "Epoch  21 Batch    6/34   train_loss = 2.156\n",
      "Epoch  21 Batch   16/34   train_loss = 2.221\n",
      "Epoch  21 Batch   26/34   train_loss = 2.168\n",
      "Epoch  22 Batch    2/34   train_loss = 2.159\n",
      "Epoch  22 Batch   12/34   train_loss = 2.047\n",
      "Epoch  22 Batch   22/34   train_loss = 2.112\n",
      "Epoch  22 Batch   32/34   train_loss = 2.061\n",
      "Epoch  23 Batch    8/34   train_loss = 2.195\n",
      "Epoch  23 Batch   18/34   train_loss = 1.974\n",
      "Epoch  23 Batch   28/34   train_loss = 1.920\n",
      "Epoch  24 Batch    4/34   train_loss = 2.058\n",
      "Epoch  24 Batch   14/34   train_loss = 1.808\n",
      "Epoch  24 Batch   24/34   train_loss = 1.928\n",
      "Epoch  25 Batch    0/34   train_loss = 1.806\n",
      "Epoch  25 Batch   10/34   train_loss = 1.917\n",
      "Epoch  25 Batch   20/34   train_loss = 1.777\n",
      "Epoch  25 Batch   30/34   train_loss = 1.748\n",
      "Epoch  26 Batch    6/34   train_loss = 1.662\n",
      "Epoch  26 Batch   16/34   train_loss = 1.703\n",
      "Epoch  26 Batch   26/34   train_loss = 1.714\n",
      "Epoch  27 Batch    2/34   train_loss = 1.629\n",
      "Epoch  27 Batch   12/34   train_loss = 1.579\n",
      "Epoch  27 Batch   22/34   train_loss = 1.634\n",
      "Epoch  27 Batch   32/34   train_loss = 1.603\n",
      "Epoch  28 Batch    8/34   train_loss = 1.670\n",
      "Epoch  28 Batch   18/34   train_loss = 1.494\n",
      "Epoch  28 Batch   28/34   train_loss = 1.450\n",
      "Epoch  29 Batch    4/34   train_loss = 1.566\n",
      "Epoch  29 Batch   14/34   train_loss = 1.377\n",
      "Epoch  29 Batch   24/34   train_loss = 1.487\n",
      "Epoch  30 Batch    0/34   train_loss = 1.404\n",
      "Epoch  30 Batch   10/34   train_loss = 1.448\n",
      "Epoch  30 Batch   20/34   train_loss = 1.416\n",
      "Epoch  30 Batch   30/34   train_loss = 1.425\n",
      "Epoch  31 Batch    6/34   train_loss = 1.331\n",
      "Epoch  31 Batch   16/34   train_loss = 1.289\n",
      "Epoch  31 Batch   26/34   train_loss = 1.341\n",
      "Epoch  32 Batch    2/34   train_loss = 1.307\n",
      "Epoch  32 Batch   12/34   train_loss = 1.248\n",
      "Epoch  32 Batch   22/34   train_loss = 1.303\n",
      "Epoch  32 Batch   32/34   train_loss = 1.296\n",
      "Epoch  33 Batch    8/34   train_loss = 1.357\n",
      "Epoch  33 Batch   18/34   train_loss = 1.228\n",
      "Epoch  33 Batch   28/34   train_loss = 1.205\n",
      "Epoch  34 Batch    4/34   train_loss = 1.280\n",
      "Epoch  34 Batch   14/34   train_loss = 1.093\n",
      "Epoch  34 Batch   24/34   train_loss = 1.218\n",
      "Epoch  35 Batch    0/34   train_loss = 1.193\n",
      "Epoch  35 Batch   10/34   train_loss = 1.201\n",
      "Epoch  35 Batch   20/34   train_loss = 1.133\n",
      "Epoch  35 Batch   30/34   train_loss = 1.141\n",
      "Epoch  36 Batch    6/34   train_loss = 1.098\n",
      "Epoch  36 Batch   16/34   train_loss = 1.050\n",
      "Epoch  36 Batch   26/34   train_loss = 1.088\n",
      "Epoch  37 Batch    2/34   train_loss = 1.082\n",
      "Epoch  37 Batch   12/34   train_loss = 0.999\n",
      "Epoch  37 Batch   22/34   train_loss = 1.065\n",
      "Epoch  37 Batch   32/34   train_loss = 1.046\n",
      "Epoch  38 Batch    8/34   train_loss = 1.057\n",
      "Epoch  38 Batch   18/34   train_loss = 0.940\n",
      "Epoch  38 Batch   28/34   train_loss = 0.936\n",
      "Epoch  39 Batch    4/34   train_loss = 0.974\n",
      "Epoch  39 Batch   14/34   train_loss = 0.848\n",
      "Epoch  39 Batch   24/34   train_loss = 0.932\n",
      "Epoch  40 Batch    0/34   train_loss = 0.877\n",
      "Epoch  40 Batch   10/34   train_loss = 0.904\n",
      "Epoch  40 Batch   20/34   train_loss = 0.850\n",
      "Epoch  40 Batch   30/34   train_loss = 0.867\n",
      "Epoch  41 Batch    6/34   train_loss = 0.808\n",
      "Epoch  41 Batch   16/34   train_loss = 0.749\n",
      "Epoch  41 Batch   26/34   train_loss = 0.783\n",
      "Epoch  42 Batch    2/34   train_loss = 0.809\n",
      "Epoch  42 Batch   12/34   train_loss = 0.718\n",
      "Epoch  42 Batch   22/34   train_loss = 0.732\n",
      "Epoch  42 Batch   32/34   train_loss = 0.738\n",
      "Epoch  43 Batch    8/34   train_loss = 0.771\n",
      "Epoch  43 Batch   18/34   train_loss = 0.675\n",
      "Epoch  43 Batch   28/34   train_loss = 0.680\n",
      "Epoch  44 Batch    4/34   train_loss = 0.713\n",
      "Epoch  44 Batch   14/34   train_loss = 0.646\n",
      "Epoch  44 Batch   24/34   train_loss = 0.700\n",
      "Epoch  45 Batch    0/34   train_loss = 0.666\n",
      "Epoch  45 Batch   10/34   train_loss = 0.681\n",
      "Epoch  45 Batch   20/34   train_loss = 0.627\n",
      "Epoch  45 Batch   30/34   train_loss = 0.671\n",
      "Epoch  46 Batch    6/34   train_loss = 0.615\n",
      "Epoch  46 Batch   16/34   train_loss = 0.586\n",
      "Epoch  46 Batch   26/34   train_loss = 0.583\n",
      "Epoch  47 Batch    2/34   train_loss = 0.649\n",
      "Epoch  47 Batch   12/34   train_loss = 0.584\n",
      "Epoch  47 Batch   22/34   train_loss = 0.605\n",
      "Epoch  47 Batch   32/34   train_loss = 0.603\n",
      "Epoch  48 Batch    8/34   train_loss = 0.631\n",
      "Epoch  48 Batch   18/34   train_loss = 0.542\n",
      "Epoch  48 Batch   28/34   train_loss = 0.530\n",
      "Epoch  49 Batch    4/34   train_loss = 0.576\n",
      "Epoch  49 Batch   14/34   train_loss = 0.517\n",
      "Epoch  49 Batch   24/34   train_loss = 0.569\n",
      "Epoch  50 Batch    0/34   train_loss = 0.523\n",
      "Epoch  50 Batch   10/34   train_loss = 0.547\n",
      "Epoch  50 Batch   20/34   train_loss = 0.558\n",
      "Epoch  50 Batch   30/34   train_loss = 0.537\n",
      "Epoch  51 Batch    6/34   train_loss = 0.499\n",
      "Epoch  51 Batch   16/34   train_loss = 0.489\n",
      "Epoch  51 Batch   26/34   train_loss = 0.486\n",
      "Epoch  52 Batch    2/34   train_loss = 0.495\n",
      "Epoch  52 Batch   12/34   train_loss = 0.458\n",
      "Epoch  52 Batch   22/34   train_loss = 0.506\n",
      "Epoch  52 Batch   32/34   train_loss = 0.468\n",
      "Epoch  53 Batch    8/34   train_loss = 0.498\n",
      "Epoch  53 Batch   18/34   train_loss = 0.444\n"
     ]
    },
    {
     "name": "stdout",
     "output_type": "stream",
     "text": [
      "Epoch  53 Batch   28/34   train_loss = 0.429\n",
      "Epoch  54 Batch    4/34   train_loss = 0.458\n",
      "Epoch  54 Batch   14/34   train_loss = 0.427\n",
      "Epoch  54 Batch   24/34   train_loss = 0.470\n",
      "Epoch  55 Batch    0/34   train_loss = 0.422\n",
      "Epoch  55 Batch   10/34   train_loss = 0.448\n",
      "Epoch  55 Batch   20/34   train_loss = 0.439\n",
      "Epoch  55 Batch   30/34   train_loss = 0.425\n",
      "Epoch  56 Batch    6/34   train_loss = 0.415\n",
      "Epoch  56 Batch   16/34   train_loss = 0.389\n",
      "Epoch  56 Batch   26/34   train_loss = 0.398\n",
      "Epoch  57 Batch    2/34   train_loss = 0.420\n",
      "Epoch  57 Batch   12/34   train_loss = 0.393\n",
      "Epoch  57 Batch   22/34   train_loss = 0.423\n",
      "Epoch  57 Batch   32/34   train_loss = 0.404\n",
      "Epoch  58 Batch    8/34   train_loss = 0.428\n",
      "Epoch  58 Batch   18/34   train_loss = 0.393\n",
      "Epoch  58 Batch   28/34   train_loss = 0.368\n",
      "Epoch  59 Batch    4/34   train_loss = 0.378\n",
      "Epoch  59 Batch   14/34   train_loss = 0.368\n",
      "Epoch  59 Batch   24/34   train_loss = 0.415\n",
      "Epoch  60 Batch    0/34   train_loss = 0.365\n",
      "Epoch  60 Batch   10/34   train_loss = 0.400\n",
      "Epoch  60 Batch   20/34   train_loss = 0.408\n",
      "Epoch  60 Batch   30/34   train_loss = 0.396\n",
      "Epoch  61 Batch    6/34   train_loss = 0.386\n",
      "Epoch  61 Batch   16/34   train_loss = 0.388\n",
      "Epoch  61 Batch   26/34   train_loss = 0.397\n",
      "Epoch  62 Batch    2/34   train_loss = 0.406\n",
      "Epoch  62 Batch   12/34   train_loss = 0.409\n",
      "Epoch  62 Batch   22/34   train_loss = 0.442\n",
      "Epoch  62 Batch   32/34   train_loss = 0.463\n",
      "Epoch  63 Batch    8/34   train_loss = 0.499\n",
      "Epoch  63 Batch   18/34   train_loss = 0.501\n",
      "Epoch  63 Batch   28/34   train_loss = 0.482\n",
      "Epoch  64 Batch    4/34   train_loss = 0.501\n",
      "Epoch  64 Batch   14/34   train_loss = 0.489\n",
      "Epoch  64 Batch   24/34   train_loss = 0.577\n",
      "Epoch  65 Batch    0/34   train_loss = 0.557\n",
      "Epoch  65 Batch   10/34   train_loss = 0.584\n",
      "Epoch  65 Batch   20/34   train_loss = 0.622\n",
      "Epoch  65 Batch   30/34   train_loss = 0.651\n",
      "Epoch  66 Batch    6/34   train_loss = 0.663\n",
      "Epoch  66 Batch   16/34   train_loss = 0.677\n",
      "Epoch  66 Batch   26/34   train_loss = 0.736\n",
      "Epoch  67 Batch    2/34   train_loss = 0.780\n",
      "Epoch  67 Batch   12/34   train_loss = 0.796\n",
      "Epoch  67 Batch   22/34   train_loss = 0.877\n",
      "Epoch  67 Batch   32/34   train_loss = 0.895\n",
      "Epoch  68 Batch    8/34   train_loss = 0.981\n",
      "Epoch  68 Batch   18/34   train_loss = 0.968\n",
      "Epoch  68 Batch   28/34   train_loss = 0.954\n",
      "Epoch  69 Batch    4/34   train_loss = 0.996\n",
      "Epoch  69 Batch   14/34   train_loss = 0.963\n",
      "Epoch  69 Batch   24/34   train_loss = 1.045\n",
      "Epoch  70 Batch    0/34   train_loss = 0.966\n",
      "Epoch  70 Batch   10/34   train_loss = 1.002\n",
      "Epoch  70 Batch   20/34   train_loss = 0.935\n",
      "Epoch  70 Batch   30/34   train_loss = 0.928\n",
      "Epoch  71 Batch    6/34   train_loss = 0.832\n",
      "Epoch  71 Batch   16/34   train_loss = 0.843\n",
      "Epoch  71 Batch   26/34   train_loss = 0.810\n",
      "Epoch  72 Batch    2/34   train_loss = 0.738\n",
      "Epoch  72 Batch   12/34   train_loss = 0.733\n",
      "Epoch  72 Batch   22/34   train_loss = 0.743\n",
      "Epoch  72 Batch   32/34   train_loss = 0.659\n",
      "Epoch  73 Batch    8/34   train_loss = 0.703\n",
      "Epoch  73 Batch   18/34   train_loss = 0.606\n",
      "Epoch  73 Batch   28/34   train_loss = 0.596\n",
      "Epoch  74 Batch    4/34   train_loss = 0.546\n",
      "Epoch  74 Batch   14/34   train_loss = 0.508\n",
      "Epoch  74 Batch   24/34   train_loss = 0.537\n",
      "Epoch  75 Batch    0/34   train_loss = 0.487\n",
      "Epoch  75 Batch   10/34   train_loss = 0.487\n",
      "Epoch  75 Batch   20/34   train_loss = 0.474\n",
      "Epoch  75 Batch   30/34   train_loss = 0.448\n",
      "Epoch  76 Batch    6/34   train_loss = 0.436\n",
      "Epoch  76 Batch   16/34   train_loss = 0.396\n",
      "Epoch  76 Batch   26/34   train_loss = 0.406\n",
      "Epoch  77 Batch    2/34   train_loss = 0.364\n",
      "Epoch  77 Batch   12/34   train_loss = 0.341\n",
      "Epoch  77 Batch   22/34   train_loss = 0.372\n",
      "Epoch  77 Batch   32/34   train_loss = 0.351\n",
      "Epoch  78 Batch    8/34   train_loss = 0.345\n",
      "Epoch  78 Batch   18/34   train_loss = 0.292\n",
      "Epoch  78 Batch   28/34   train_loss = 0.298\n",
      "Epoch  79 Batch    4/34   train_loss = 0.277\n",
      "Epoch  79 Batch   14/34   train_loss = 0.274\n",
      "Epoch  79 Batch   24/34   train_loss = 0.288\n",
      "Epoch  80 Batch    0/34   train_loss = 0.244\n",
      "Epoch  80 Batch   10/34   train_loss = 0.257\n",
      "Epoch  80 Batch   20/34   train_loss = 0.264\n",
      "Epoch  80 Batch   30/34   train_loss = 0.265\n",
      "Epoch  81 Batch    6/34   train_loss = 0.220\n",
      "Epoch  81 Batch   16/34   train_loss = 0.214\n",
      "Epoch  81 Batch   26/34   train_loss = 0.226\n",
      "Epoch  82 Batch    2/34   train_loss = 0.228\n",
      "Epoch  82 Batch   12/34   train_loss = 0.214\n",
      "Epoch  82 Batch   22/34   train_loss = 0.229\n",
      "Epoch  82 Batch   32/34   train_loss = 0.222\n",
      "Epoch  83 Batch    8/34   train_loss = 0.212\n",
      "Epoch  83 Batch   18/34   train_loss = 0.194\n",
      "Epoch  83 Batch   28/34   train_loss = 0.194\n",
      "Epoch  84 Batch    4/34   train_loss = 0.180\n",
      "Epoch  84 Batch   14/34   train_loss = 0.187\n",
      "Epoch  84 Batch   24/34   train_loss = 0.204\n",
      "Epoch  85 Batch    0/34   train_loss = 0.169\n",
      "Epoch  85 Batch   10/34   train_loss = 0.192\n",
      "Epoch  85 Batch   20/34   train_loss = 0.195\n",
      "Epoch  85 Batch   30/34   train_loss = 0.204\n",
      "Epoch  86 Batch    6/34   train_loss = 0.171\n",
      "Epoch  86 Batch   16/34   train_loss = 0.178\n",
      "Epoch  86 Batch   26/34   train_loss = 0.192\n",
      "Epoch  87 Batch    2/34   train_loss = 0.184\n",
      "Epoch  87 Batch   12/34   train_loss = 0.183\n",
      "Epoch  87 Batch   22/34   train_loss = 0.190\n",
      "Epoch  87 Batch   32/34   train_loss = 0.192\n",
      "Epoch  88 Batch    8/34   train_loss = 0.183\n",
      "Epoch  88 Batch   18/34   train_loss = 0.169\n",
      "Epoch  88 Batch   28/34   train_loss = 0.173\n",
      "Epoch  89 Batch    4/34   train_loss = 0.160\n",
      "Epoch  89 Batch   14/34   train_loss = 0.172\n",
      "Epoch  89 Batch   24/34   train_loss = 0.183\n",
      "Epoch  90 Batch    0/34   train_loss = 0.150\n",
      "Epoch  90 Batch   10/34   train_loss = 0.175\n",
      "Epoch  90 Batch   20/34   train_loss = 0.180\n",
      "Epoch  90 Batch   30/34   train_loss = 0.186\n",
      "Epoch  91 Batch    6/34   train_loss = 0.156\n",
      "Epoch  91 Batch   16/34   train_loss = 0.168\n",
      "Epoch  91 Batch   26/34   train_loss = 0.178\n",
      "Epoch  92 Batch    2/34   train_loss = 0.174\n",
      "Epoch  92 Batch   12/34   train_loss = 0.173\n",
      "Epoch  92 Batch   22/34   train_loss = 0.181\n",
      "Epoch  92 Batch   32/34   train_loss = 0.181\n",
      "Epoch  93 Batch    8/34   train_loss = 0.175\n",
      "Epoch  93 Batch   18/34   train_loss = 0.162\n",
      "Epoch  93 Batch   28/34   train_loss = 0.167\n",
      "Epoch  94 Batch    4/34   train_loss = 0.153\n",
      "Epoch  94 Batch   14/34   train_loss = 0.165\n",
      "Epoch  94 Batch   24/34   train_loss = 0.174\n",
      "Epoch  95 Batch    0/34   train_loss = 0.143\n",
      "Epoch  95 Batch   10/34   train_loss = 0.171\n",
      "Epoch  95 Batch   20/34   train_loss = 0.169\n",
      "Epoch  95 Batch   30/34   train_loss = 0.182\n",
      "Epoch  96 Batch    6/34   train_loss = 0.147\n",
      "Epoch  96 Batch   16/34   train_loss = 0.162\n",
      "Epoch  96 Batch   26/34   train_loss = 0.172\n",
      "Epoch  97 Batch    2/34   train_loss = 0.167\n",
      "Epoch  97 Batch   12/34   train_loss = 0.169\n",
      "Epoch  97 Batch   22/34   train_loss = 0.174\n",
      "Epoch  97 Batch   32/34   train_loss = 0.176\n",
      "Epoch  98 Batch    8/34   train_loss = 0.167\n",
      "Epoch  98 Batch   18/34   train_loss = 0.158\n",
      "Epoch  98 Batch   28/34   train_loss = 0.163\n",
      "Epoch  99 Batch    4/34   train_loss = 0.150\n",
      "Epoch  99 Batch   14/34   train_loss = 0.162\n",
      "Epoch  99 Batch   24/34   train_loss = 0.169\n",
      "Model Trained and Saved\n"
     ]
    }
   ],
   "source": [
    "\"\"\"\n",
    "DON'T MODIFY ANYTHING IN THIS CELL\n",
    "\"\"\"\n",
    "batches = get_batches(int_text, batch_size, seq_length)\n",
    "\n",
    "with tf.Session(graph=train_graph) as sess:\n",
    "    sess.run(tf.global_variables_initializer())\n",
    "\n",
    "    for epoch_i in range(num_epochs):\n",
    "        state = sess.run(initial_state, {input_text: batches[0][0]})\n",
    "\n",
    "        for batch_i, (x, y) in enumerate(batches):\n",
    "            feed = {\n",
    "                input_text: x,\n",
    "                targets: y,\n",
    "                initial_state: state,\n",
    "                lr: learning_rate}\n",
    "            train_loss, state, _ = sess.run([cost, final_state, train_op], feed)\n",
    "\n",
    "            # Show every <show_every_n_batches> batches\n",
    "            if (epoch_i * len(batches) + batch_i) % show_every_n_batches == 0:\n",
    "                print('Epoch {:>3} Batch {:>4}/{}   train_loss = {:.3f}'.format(\n",
    "                    epoch_i,\n",
    "                    batch_i,\n",
    "                    len(batches),\n",
    "                    train_loss))\n",
    "\n",
    "    # Save Model\n",
    "    saver = tf.train.Saver()\n",
    "    saver.save(sess, save_dir)\n",
    "    print('Model Trained and Saved')"
   ]
  },
  {
   "cell_type": "markdown",
   "metadata": {},
   "source": [
    "## Save Parameters\n",
    "Save `seq_length` and `save_dir` for generating a new TV script."
   ]
  },
  {
   "cell_type": "code",
   "execution_count": 53,
   "metadata": {},
   "outputs": [],
   "source": [
    "\"\"\"\n",
    "DON'T MODIFY ANYTHING IN THIS CELL\n",
    "\"\"\"\n",
    "# Save parameters for checkpoint\n",
    "helper.save_params((seq_length, save_dir))"
   ]
  },
  {
   "cell_type": "markdown",
   "metadata": {},
   "source": [
    "# Checkpoint"
   ]
  },
  {
   "cell_type": "code",
   "execution_count": 50,
   "metadata": {},
   "outputs": [],
   "source": [
    "\"\"\"\n",
    "DON'T MODIFY ANYTHING IN THIS CELL\n",
    "\"\"\"\n",
    "import tensorflow as tf\n",
    "import numpy as np\n",
    "import helper\n",
    "import problem_unittests as tests\n",
    "\n",
    "_, vocab_to_int, int_to_vocab, token_dict = helper.load_preprocess()\n",
    "seq_length, load_dir = helper.load_params()"
   ]
  },
  {
   "cell_type": "markdown",
   "metadata": {},
   "source": [
    "## Implement Generate Functions\n",
    "### Get Tensors\n",
    "Get tensors from `loaded_graph` using the function [`get_tensor_by_name()`](https://www.tensorflow.org/api_docs/python/tf/Graph#get_tensor_by_name).  Get the tensors using the following names:\n",
    "- \"input:0\"\n",
    "- \"initial_state:0\"\n",
    "- \"final_state:0\"\n",
    "- \"probs:0\"\n",
    "\n",
    "Return the tensors in the following tuple `(InputTensor, InitialStateTensor, FinalStateTensor, ProbsTensor)` "
   ]
  },
  {
   "cell_type": "code",
   "execution_count": 51,
   "metadata": {},
   "outputs": [
    {
     "name": "stdout",
     "output_type": "stream",
     "text": [
      "Tests Passed\n"
     ]
    }
   ],
   "source": [
    "def get_tensors(loaded_graph):\n",
    "    \"\"\"\n",
    "    Get input, initial state, final state, and probabilities tensor from <loaded_graph>\n",
    "    :param loaded_graph: TensorFlow graph loaded from file\n",
    "    :return: Tuple (InputTensor, InitialStateTensor, FinalStateTensor, ProbsTensor)\n",
    "    \"\"\"\n",
    "    # TODO: Implement Function\n",
    "    inputTensor = loaded_graph.get_tensor_by_name('input:0')\n",
    "    initialStateTensor = loaded_graph.get_tensor_by_name('initial_state:0')\n",
    "    finalStateTensor = loaded_graph.get_tensor_by_name('final_state:0')\n",
    "    probsTensor = loaded_graph.get_tensor_by_name('probs:0')\n",
    "    \n",
    "    return inputTensor, initialStateTensor, finalStateTensor, probsTensor\n",
    "\n",
    "\n",
    "\"\"\"\n",
    "DON'T MODIFY ANYTHING IN THIS CELL THAT IS BELOW THIS LINE\n",
    "\"\"\"\n",
    "tests.test_get_tensors(get_tensors)"
   ]
  },
  {
   "cell_type": "markdown",
   "metadata": {},
   "source": [
    "### Choose Word\n",
    "Implement the `pick_word()` function to select the next word using `probabilities`."
   ]
  },
  {
   "cell_type": "code",
   "execution_count": 71,
   "metadata": {},
   "outputs": [
    {
     "name": "stdout",
     "output_type": "stream",
     "text": [
      "Tests Passed\n"
     ]
    }
   ],
   "source": [
    "def pick_word(probabilities, int_to_vocab):\n",
    "    \"\"\"\n",
    "    Pick the next word in the generated text\n",
    "    :param probabilities: Probabilites of the next word\n",
    "    :param int_to_vocab: Dictionary of word ids as the keys and words as the values\n",
    "    :return: String of the predicted word\n",
    "    \"\"\"\n",
    "    # TODO: Implement Function\n",
    "    max_index = probabilities.argmax()\n",
    "    return int_to_vocab[max_index]\n",
    "\n",
    "\"\"\"\n",
    "DON'T MODIFY ANYTHING IN THIS CELL THAT IS BELOW THIS LINE\n",
    "\"\"\"\n",
    "tests.test_pick_word(pick_word)"
   ]
  },
  {
   "cell_type": "markdown",
   "metadata": {},
   "source": [
    "## Generate TV Script\n",
    "This will generate the TV script for you.  Set `gen_length` to the length of TV script you want to generate."
   ]
  },
  {
   "cell_type": "code",
   "execution_count": 75,
   "metadata": {},
   "outputs": [
    {
     "name": "stdout",
     "output_type": "stream",
     "text": [
      "homer_simpson:(reluctant) all right, i'm sorry...(bitter) but i will not save the money to have you a beer!\n",
      "homer_simpson:(laughs) now if this goes.\n",
      "barney_gumble: what's wrong.\n",
      "\n",
      "\n",
      "homer_simpson:(moans) moe, can you get a little more than went in the first place business with our face we will live with the isotopes are from the night... i was just saying?\n",
      "rev. _hooper: well, i... uh...\n",
      "homer_simpson: yeah, you'd be back to my birthday fishing trip... well i'll get it all...\n",
      "moe_szyslak: hey! homer!\n",
      "homer_simpson: i'm outta here.\n",
      "moe_szyslak: whoa, whoa, whoa... uh, what are you pullin' the show.\n",
      "moe_szyslak:(sings) shop kwik-e-mart and save...\n",
      "all: goodbye, moe.\n",
      "moe_szyslak: i got that punk, you get the kids?\n",
      "moe_szyslak: i got that rat is a lotta secrets i'd prefer to keep clandestine our time\n"
     ]
    }
   ],
   "source": [
    "gen_length = 200\n",
    "# homer_simpson, moe_szyslak, or Barney_Gumble\n",
    "prime_word = 'homer_simpson'\n",
    "\n",
    "\"\"\"\n",
    "DON'T MODIFY ANYTHING IN THIS CELL THAT IS BELOW THIS LINE\n",
    "\"\"\"\n",
    "loaded_graph = tf.Graph()\n",
    "with tf.Session(graph=loaded_graph) as sess:\n",
    "    # Load saved model\n",
    "    loader = tf.train.import_meta_graph(load_dir + '.meta')\n",
    "    loader.restore(sess, load_dir)\n",
    "\n",
    "    # Get Tensors from loaded model\n",
    "    input_text, initial_state, final_state, probs = get_tensors(loaded_graph)\n",
    "\n",
    "    # Sentences generation setup\n",
    "    gen_sentences = [prime_word + ':']\n",
    "    prev_state = sess.run(initial_state, {input_text: np.array([[1]])})\n",
    "\n",
    "    # Generate sentences\n",
    "    for n in range(gen_length):\n",
    "        # Dynamic Input\n",
    "        dyn_input = [[vocab_to_int[word] for word in gen_sentences[-seq_length:]]]\n",
    "        dyn_seq_length = len(dyn_input[0])\n",
    "\n",
    "        # Get Prediction\n",
    "        probabilities, prev_state = sess.run(\n",
    "            [probs, final_state],\n",
    "            {input_text: dyn_input, initial_state: prev_state})\n",
    "        \n",
    "        pred_word = pick_word(probabilities[dyn_seq_length-1], int_to_vocab)\n",
    "\n",
    "        gen_sentences.append(pred_word)\n",
    "    \n",
    "    # Remove tokens\n",
    "    tv_script = ' '.join(gen_sentences)\n",
    "    for key, token in token_dict.items():\n",
    "        ending = ' ' if key in ['\\n', '(', '\"'] else ''\n",
    "        tv_script = tv_script.replace(' ' + token.lower(), key)\n",
    "    tv_script = tv_script.replace('\\n ', '\\n')\n",
    "    tv_script = tv_script.replace('( ', '(')\n",
    "        \n",
    "    print(tv_script)"
   ]
  },
  {
   "cell_type": "markdown",
   "metadata": {},
   "source": [
    "# The TV Script is Nonsensical\n",
    "It's ok if the TV script doesn't make any sense.  We trained on less than a megabyte of text.  In order to get good results, you'll have to use a smaller vocabulary or get more data.  Luckly there's more data!  As we mentioned in the begging of this project, this is a subset of [another dataset](https://www.kaggle.com/wcukierski/the-simpsons-by-the-data).  We didn't have you train on all the data, because that would take too long.  However, you are free to train your neural network on all the data.  After you complete the project, of course.\n",
    "# Submitting This Project\n",
    "When submitting this project, make sure to run all the cells before saving the notebook. Save the notebook file as \"dlnd_tv_script_generation.ipynb\" and save it as a HTML file under \"File\" -> \"Download as\". Include the \"helper.py\" and \"problem_unittests.py\" files in your submission."
   ]
  }
 ],
 "metadata": {
  "kernelspec": {
   "display_name": "Python 3",
   "language": "python",
   "name": "python3"
  },
  "language_info": {
   "codemirror_mode": {
    "name": "ipython",
    "version": 3
   },
   "file_extension": ".py",
   "mimetype": "text/x-python",
   "name": "python",
   "nbconvert_exporter": "python",
   "pygments_lexer": "ipython3",
   "version": "3.5.4"
  },
  "widgets": {
   "state": {},
   "version": "1.1.2"
  }
 },
 "nbformat": 4,
 "nbformat_minor": 1
}
